{
 "cells": [
  {
   "cell_type": "code",
   "execution_count": 1,
   "id": "002cf24d-c0b4-40bc-bbb1-0b285044dc1b",
   "metadata": {},
   "outputs": [],
   "source": [
    "import pandas as pd"
   ]
  },
  {
   "cell_type": "code",
   "execution_count": 16,
   "id": "14483463-58ef-4246-aeae-8a3eb6bd2e16",
   "metadata": {},
   "outputs": [],
   "source": [
    "df = pd.read_csv(\"./data/file2.csv\")"
   ]
  },
  {
   "cell_type": "code",
   "execution_count": 17,
   "id": "69b5c9bd-feba-452e-b68e-95d64b46d800",
   "metadata": {},
   "outputs": [
    {
     "data": {
      "text/html": [
       "<div>\n",
       "<style scoped>\n",
       "    .dataframe tbody tr th:only-of-type {\n",
       "        vertical-align: middle;\n",
       "    }\n",
       "\n",
       "    .dataframe tbody tr th {\n",
       "        vertical-align: top;\n",
       "    }\n",
       "\n",
       "    .dataframe thead th {\n",
       "        text-align: right;\n",
       "    }\n",
       "</style>\n",
       "<table border=\"1\" class=\"dataframe\">\n",
       "  <thead>\n",
       "    <tr style=\"text-align: right;\">\n",
       "      <th></th>\n",
       "      <th>Unnamed: 0</th>\n",
       "      <th>results_found</th>\n",
       "      <th>results_start</th>\n",
       "      <th>results_shown</th>\n",
       "      <th>restaurants</th>\n",
       "    </tr>\n",
       "  </thead>\n",
       "  <tbody>\n",
       "    <tr>\n",
       "      <th>292</th>\n",
       "      <td>292</td>\n",
       "      <td>309</td>\n",
       "      <td>21</td>\n",
       "      <td>20</td>\n",
       "      <td>[{'restaurant': {'R': {'res_id': 302089}, 'api...</td>\n",
       "    </tr>\n",
       "    <tr>\n",
       "      <th>186</th>\n",
       "      <td>186</td>\n",
       "      <td>1263908</td>\n",
       "      <td>21</td>\n",
       "      <td>20</td>\n",
       "      <td>[{'restaurant': {'R': {'res_id': 16668008}, 'a...</td>\n",
       "    </tr>\n",
       "    <tr>\n",
       "      <th>301</th>\n",
       "      <td>301</td>\n",
       "      <td>246</td>\n",
       "      <td>21</td>\n",
       "      <td>20</td>\n",
       "      <td>[{'restaurant': {'R': {'res_id': 1096}, 'apike...</td>\n",
       "    </tr>\n",
       "    <tr>\n",
       "      <th>525</th>\n",
       "      <td>525</td>\n",
       "      <td>44</td>\n",
       "      <td>21</td>\n",
       "      <td>20</td>\n",
       "      <td>[{'restaurant': {'R': {'res_id': 6013}, 'apike...</td>\n",
       "    </tr>\n",
       "    <tr>\n",
       "      <th>546</th>\n",
       "      <td>546</td>\n",
       "      <td>17151</td>\n",
       "      <td>21</td>\n",
       "      <td>20</td>\n",
       "      <td>[{'restaurant': {'R': {'res_id': 313256}, 'api...</td>\n",
       "    </tr>\n",
       "  </tbody>\n",
       "</table>\n",
       "</div>"
      ],
      "text/plain": [
       "     Unnamed: 0  results_found  results_start  results_shown  \\\n",
       "292         292            309             21             20   \n",
       "186         186        1263908             21             20   \n",
       "301         301            246             21             20   \n",
       "525         525             44             21             20   \n",
       "546         546          17151             21             20   \n",
       "\n",
       "                                           restaurants  \n",
       "292  [{'restaurant': {'R': {'res_id': 302089}, 'api...  \n",
       "186  [{'restaurant': {'R': {'res_id': 16668008}, 'a...  \n",
       "301  [{'restaurant': {'R': {'res_id': 1096}, 'apike...  \n",
       "525  [{'restaurant': {'R': {'res_id': 6013}, 'apike...  \n",
       "546  [{'restaurant': {'R': {'res_id': 313256}, 'api...  "
      ]
     },
     "execution_count": 17,
     "metadata": {},
     "output_type": "execute_result"
    }
   ],
   "source": [
    "df.sample(5)"
   ]
  },
  {
   "cell_type": "code",
   "execution_count": 20,
   "id": "51677a8b-cd5c-47c8-9dac-ec567c77fe7a",
   "metadata": {},
   "outputs": [
    {
     "data": {
      "text/plain": [
       "str"
      ]
     },
     "execution_count": 20,
     "metadata": {},
     "output_type": "execute_result"
    }
   ],
   "source": [
    "type(df[\"restaurants\"].iloc[0])"
   ]
  },
  {
   "cell_type": "markdown",
   "id": "222821b4-5c4b-44d0-a5cd-ac45e5b536a7",
   "metadata": {},
   "source": [
    "we can see type of data is string but in actual they are of type list of dict"
   ]
  },
  {
   "cell_type": "code",
   "execution_count": 23,
   "id": "cc3dfb43-b229-4fe2-b5c2-4eda70b09187",
   "metadata": {},
   "outputs": [
    {
     "name": "stdout",
     "output_type": "stream",
     "text": [
      "<class 'pandas.core.frame.DataFrame'>\n",
      "RangeIndex: 550 entries, 0 to 549\n",
      "Data columns (total 5 columns):\n",
      " #   Column         Non-Null Count  Dtype \n",
      "---  ------         --------------  ----- \n",
      " 0   Unnamed: 0     550 non-null    int64 \n",
      " 1   results_found  550 non-null    int64 \n",
      " 2   results_start  550 non-null    int64 \n",
      " 3   results_shown  550 non-null    int64 \n",
      " 4   restaurants    550 non-null    object\n",
      "dtypes: int64(4), object(1)\n",
      "memory usage: 21.6+ KB\n"
     ]
    }
   ],
   "source": [
    "df.info()"
   ]
  },
  {
   "cell_type": "markdown",
   "id": "9f643e12-651d-4215-af57-388c9f4a368c",
   "metadata": {},
   "source": [
    "ways we can handle :- <br>\n",
    "     1. write regex to extract, it will work for data when we have less depth dict or list of dict <br>\n",
    "     3. Use eval(), eval treat string in its desired form. <br>"
   ]
  },
  {
   "cell_type": "code",
   "execution_count": 29,
   "id": "eb6ebb76-a3f7-45a8-812d-d8540ad14fe5",
   "metadata": {},
   "outputs": [
    {
     "name": "stdout",
     "output_type": "stream",
     "text": [
      "[1,2,3,4,5], <class 'str'>\n",
      "[1, 2, 3, 4, 5], <class 'list'>\n"
     ]
    }
   ],
   "source": [
    "number = \"[1,2,3,4,5]\"\n",
    "print(f\"{number}, {type(number)}\")\n",
    "\n",
    "print(f\"{eval(number)}, {type(eval(number))}\")"
   ]
  },
  {
   "cell_type": "markdown",
   "id": "0c944d17-cd02-4f44-979c-d93b40f6c305",
   "metadata": {},
   "source": [
    "from above example u can see that eval automatically detected type as list "
   ]
  },
  {
   "cell_type": "markdown",
   "id": "c7b9ea67-91cf-4b4e-989f-ab0780720e83",
   "metadata": {},
   "source": [
    "Let's take out data from restaurants columns"
   ]
  },
  {
   "cell_type": "code",
   "execution_count": 32,
   "id": "2e7bfe25-570f-4875-8df2-485c7045ffee",
   "metadata": {},
   "outputs": [],
   "source": [
    "import json"
   ]
  },
  {
   "cell_type": "code",
   "execution_count": 105,
   "id": "28cba086-76f9-416b-9c1c-ae58f68def5b",
   "metadata": {},
   "outputs": [
    {
     "data": {
      "text/plain": [
       "{'aggregate_rating': '3.3',\n",
       " 'rating_text': 'Average',\n",
       " 'rating_color': 'CDD614',\n",
       " 'votes': '26'}"
      ]
     },
     "execution_count": 105,
     "metadata": {},
     "output_type": "execute_result"
    }
   ],
   "source": [
    "eval(df[\"restaurants\"].iloc[0])[0][\"restaurant\"][\"user_rating\"]"
   ]
  },
  {
   "cell_type": "markdown",
   "id": "d2ce2968-6949-49fe-805d-ea63c7776e11",
   "metadata": {},
   "source": [
    "making function which help us to get data"
   ]
  },
  {
   "cell_type": "code",
   "execution_count": 116,
   "id": "b1cb4efd-3660-4695-a0ae-2e97d22b12cc",
   "metadata": {},
   "outputs": [],
   "source": [
    "class FlattenDict:\n",
    "    def __init__(self):\n",
    "        self.data_dic = {\"id\":[],\"name\":[], \"address\":[],\n",
    "            \"cuisines\": [],\"average_cost_for_two\":[],\n",
    "            \"has_online_delivery\":[], \"locality\": [],\n",
    "            \"city\":[],\"country_id\":[], \"zipcode\":[],\n",
    "            \"aggregate_rating\":[], \"rating_text\": [],\n",
    "            \"votes\":[]\n",
    "           }\n",
    "\n",
    "\n",
    "    def get_data(self, data):\n",
    "        \"\"\"\n",
    "        find out required data and return:\n",
    "        \"\"\"\n",
    "\n",
    "        eval_data = eval(data)\n",
    "        for i in eval_data:\n",
    "            self.data_dic[\"id\"].append(i[\"restaurant\"][\"id\"])\n",
    "            self.data_dic[\"name\"].append(i[\"restaurant\"][\"name\"])\n",
    "            self.data_dic[\"cuisines\"].append(i[\"restaurant\"][\"cuisines\"])\n",
    "            self.data_dic[\"average_cost_for_two\"].append(i[\"restaurant\"][\"average_cost_for_two\"])\n",
    "            self.data_dic[\"has_online_delivery\"].append(i[\"restaurant\"][\"has_online_delivery\"])\n",
    "\n",
    "            self.data_dic[\"aggregate_rating\"].append(i[\"restaurant\"][\"user_rating\"][\"aggregate_rating\"])\n",
    "            self.data_dic[\"rating_text\"].append(i[\"restaurant\"][\"user_rating\"][\"rating_text\"])\n",
    "            self.data_dic[\"votes\"].append(i[\"restaurant\"][\"user_rating\"][\"votes\"])\n",
    "            ### location and address related data\n",
    "            self.data_dic[\"address\"].append(i[\"restaurant\"][\"location\"][\"address\"])\n",
    "            self.data_dic[\"locality\"].append(i[\"restaurant\"][\"location\"][\"locality\"])\n",
    "            self.data_dic[\"city\"].append(i[\"restaurant\"][\"location\"][\"city\"])\n",
    "            self.data_dic[\"country_id\"].append(i[\"restaurant\"][\"location\"][\"country_id\"])\n",
    "            self.data_dic[\"zipcode\"].append(i[\"restaurant\"][\"location\"][\"zipcode\"])\n",
    "\n",
    "            \n",
    "    def convert_to_df(self):\n",
    "        \n",
    "        return pd.DataFrame(self.data_dic)\n",
    "\n"
   ]
  },
  {
   "cell_type": "code",
   "execution_count": null,
   "id": "6f5f46df-ce2d-453d-86ff-8bddf4f1c627",
   "metadata": {},
   "outputs": [],
   "source": []
  },
  {
   "cell_type": "code",
   "execution_count": 117,
   "id": "407067cc-9b0d-4fce-97f0-c985a0acdd63",
   "metadata": {},
   "outputs": [],
   "source": [
    "flatten_dict = FlattenDict()"
   ]
  },
  {
   "cell_type": "code",
   "execution_count": 121,
   "id": "881fe009-32ae-493a-8b74-e95ad0ba2019",
   "metadata": {},
   "outputs": [
    {
     "data": {
      "text/plain": [
       "0      None\n",
       "1      None\n",
       "2      None\n",
       "3      None\n",
       "4      None\n",
       "       ... \n",
       "545    None\n",
       "546    None\n",
       "547    None\n",
       "548    None\n",
       "549    None\n",
       "Name: restaurants, Length: 550, dtype: object"
      ]
     },
     "execution_count": 121,
     "metadata": {},
     "output_type": "execute_result"
    }
   ],
   "source": [
    "\n",
    "    \n",
    "df[\"restaurants\"].apply(lambda x: flatten_dict.get_data(x))"
   ]
  },
  {
   "cell_type": "code",
   "execution_count": 122,
   "id": "89b361ff-d687-4abf-8ecc-38919d163b34",
   "metadata": {},
   "outputs": [
    {
     "data": {
      "text/html": [
       "<div>\n",
       "<style scoped>\n",
       "    .dataframe tbody tr th:only-of-type {\n",
       "        vertical-align: middle;\n",
       "    }\n",
       "\n",
       "    .dataframe tbody tr th {\n",
       "        vertical-align: top;\n",
       "    }\n",
       "\n",
       "    .dataframe thead th {\n",
       "        text-align: right;\n",
       "    }\n",
       "</style>\n",
       "<table border=\"1\" class=\"dataframe\">\n",
       "  <thead>\n",
       "    <tr style=\"text-align: right;\">\n",
       "      <th></th>\n",
       "      <th>id</th>\n",
       "      <th>name</th>\n",
       "      <th>address</th>\n",
       "      <th>cuisines</th>\n",
       "      <th>average_cost_for_two</th>\n",
       "      <th>has_online_delivery</th>\n",
       "      <th>locality</th>\n",
       "      <th>city</th>\n",
       "      <th>country_id</th>\n",
       "      <th>zipcode</th>\n",
       "      <th>aggregate_rating</th>\n",
       "      <th>rating_text</th>\n",
       "      <th>votes</th>\n",
       "    </tr>\n",
       "  </thead>\n",
       "  <tbody>\n",
       "    <tr>\n",
       "      <th>0</th>\n",
       "      <td>16668008</td>\n",
       "      <td>Arigato Sushi</td>\n",
       "      <td>14 Second Ave North, Yorkton, SK S3N 1G1</td>\n",
       "      <td>Asian</td>\n",
       "      <td>25</td>\n",
       "      <td>0</td>\n",
       "      <td>Yorkton</td>\n",
       "      <td>Yorkton</td>\n",
       "      <td>37</td>\n",
       "      <td>S3N 1G1</td>\n",
       "      <td>3.3</td>\n",
       "      <td>Average</td>\n",
       "      <td>26</td>\n",
       "    </tr>\n",
       "    <tr>\n",
       "      <th>1</th>\n",
       "      <td>801690</td>\n",
       "      <td>Mocha</td>\n",
       "      <td>CP-1, 2nd Floor, Anand Plaza, Viram Khand-1, N...</td>\n",
       "      <td>Cafe, Italian, Continental</td>\n",
       "      <td>800</td>\n",
       "      <td>0</td>\n",
       "      <td>Gomti Nagar</td>\n",
       "      <td>Lucknow</td>\n",
       "      <td>1</td>\n",
       "      <td>226010</td>\n",
       "      <td>4.6</td>\n",
       "      <td>Excellent</td>\n",
       "      <td>567</td>\n",
       "    </tr>\n",
       "    <tr>\n",
       "      <th>2</th>\n",
       "      <td>17558738</td>\n",
       "      <td>Blue House Cafe</td>\n",
       "      <td>919 Bridge St, Vernonia, OR 97064</td>\n",
       "      <td>Coffee and Tea, Mediterranean</td>\n",
       "      <td>10</td>\n",
       "      <td>0</td>\n",
       "      <td>Vernonia</td>\n",
       "      <td>Vernonia</td>\n",
       "      <td>216</td>\n",
       "      <td>97064</td>\n",
       "      <td>4.3</td>\n",
       "      <td>Very Good</td>\n",
       "      <td>88</td>\n",
       "    </tr>\n",
       "    <tr>\n",
       "      <th>3</th>\n",
       "      <td>16611701</td>\n",
       "      <td>Star Buffet</td>\n",
       "      <td>58 Hanbury St, Mayfield, NSW</td>\n",
       "      <td>Asian</td>\n",
       "      <td>20</td>\n",
       "      <td>0</td>\n",
       "      <td>Mayfield</td>\n",
       "      <td>Mayfield</td>\n",
       "      <td>14</td>\n",
       "      <td>2304</td>\n",
       "      <td>2.9</td>\n",
       "      <td>Average</td>\n",
       "      <td>11</td>\n",
       "    </tr>\n",
       "    <tr>\n",
       "      <th>4</th>\n",
       "      <td>2100784</td>\n",
       "      <td>11th Avenue Cafe Bistro</td>\n",
       "      <td>Opposite Assam State Museum, Dighalipukhuri, T...</td>\n",
       "      <td>Cafe, American, Italian, Continental</td>\n",
       "      <td>400</td>\n",
       "      <td>0</td>\n",
       "      <td>Uzan Bazaar</td>\n",
       "      <td>Guwahati</td>\n",
       "      <td>1</td>\n",
       "      <td></td>\n",
       "      <td>4.1</td>\n",
       "      <td>Very Good</td>\n",
       "      <td>377</td>\n",
       "    </tr>\n",
       "    <tr>\n",
       "      <th>...</th>\n",
       "      <td>...</td>\n",
       "      <td>...</td>\n",
       "      <td>...</td>\n",
       "      <td>...</td>\n",
       "      <td>...</td>\n",
       "      <td>...</td>\n",
       "      <td>...</td>\n",
       "      <td>...</td>\n",
       "      <td>...</td>\n",
       "      <td>...</td>\n",
       "      <td>...</td>\n",
       "      <td>...</td>\n",
       "      <td>...</td>\n",
       "    </tr>\n",
       "    <tr>\n",
       "      <th>10597</th>\n",
       "      <td>18289242</td>\n",
       "      <td>Cyber Hub Social</td>\n",
       "      <td>Cyber Hub, DLF Cyber City, Gurgaon</td>\n",
       "      <td>Continental, American, Asian, North Indian</td>\n",
       "      <td>1500</td>\n",
       "      <td>1</td>\n",
       "      <td>Cyber Hub, DLF Cyber City</td>\n",
       "      <td>Gurgaon</td>\n",
       "      <td>1</td>\n",
       "      <td></td>\n",
       "      <td>4.3</td>\n",
       "      <td>Very Good</td>\n",
       "      <td>716</td>\n",
       "    </tr>\n",
       "    <tr>\n",
       "      <th>10598</th>\n",
       "      <td>799</td>\n",
       "      <td>Gulati</td>\n",
       "      <td>6, Pandara Road Market, New Delhi</td>\n",
       "      <td>North Indian, Mughlai</td>\n",
       "      <td>1500</td>\n",
       "      <td>1</td>\n",
       "      <td>Pandara Road Market</td>\n",
       "      <td>New Delhi</td>\n",
       "      <td>1</td>\n",
       "      <td>0</td>\n",
       "      <td>4.4</td>\n",
       "      <td>Very Good</td>\n",
       "      <td>4373</td>\n",
       "    </tr>\n",
       "    <tr>\n",
       "      <th>10599</th>\n",
       "      <td>301998</td>\n",
       "      <td>Punjab Grill</td>\n",
       "      <td>Pacific Mall, Tagore Garden, New Delhi</td>\n",
       "      <td>North Indian</td>\n",
       "      <td>1600</td>\n",
       "      <td>1</td>\n",
       "      <td>Tagore Garden</td>\n",
       "      <td>New Delhi</td>\n",
       "      <td>1</td>\n",
       "      <td></td>\n",
       "      <td>4.3</td>\n",
       "      <td>Very Good</td>\n",
       "      <td>1252</td>\n",
       "    </tr>\n",
       "    <tr>\n",
       "      <th>10600</th>\n",
       "      <td>307113</td>\n",
       "      <td>Diggin</td>\n",
       "      <td>Anand Lok Shopping Centre, Opposite Gargi Coll...</td>\n",
       "      <td>Italian, Continental, Cafe</td>\n",
       "      <td>1400</td>\n",
       "      <td>1</td>\n",
       "      <td>Anand Lok</td>\n",
       "      <td>New Delhi</td>\n",
       "      <td>1</td>\n",
       "      <td></td>\n",
       "      <td>4.2</td>\n",
       "      <td>Very Good</td>\n",
       "      <td>2131</td>\n",
       "    </tr>\n",
       "    <tr>\n",
       "      <th>10601</th>\n",
       "      <td>18345728</td>\n",
       "      <td>Masala Library</td>\n",
       "      <td>21 A, Janpath, New Delhi</td>\n",
       "      <td>Modern Indian</td>\n",
       "      <td>5000</td>\n",
       "      <td>0</td>\n",
       "      <td>Janpath</td>\n",
       "      <td>New Delhi</td>\n",
       "      <td>1</td>\n",
       "      <td></td>\n",
       "      <td>4.9</td>\n",
       "      <td>Excellent</td>\n",
       "      <td>408</td>\n",
       "    </tr>\n",
       "  </tbody>\n",
       "</table>\n",
       "<p>10602 rows × 13 columns</p>\n",
       "</div>"
      ],
      "text/plain": [
       "             id                     name  \\\n",
       "0      16668008            Arigato Sushi   \n",
       "1        801690                    Mocha   \n",
       "2      17558738          Blue House Cafe   \n",
       "3      16611701              Star Buffet   \n",
       "4       2100784  11th Avenue Cafe Bistro   \n",
       "...         ...                      ...   \n",
       "10597  18289242         Cyber Hub Social   \n",
       "10598       799                   Gulati   \n",
       "10599    301998             Punjab Grill   \n",
       "10600    307113                   Diggin   \n",
       "10601  18345728           Masala Library   \n",
       "\n",
       "                                                 address  \\\n",
       "0               14 Second Ave North, Yorkton, SK S3N 1G1   \n",
       "1      CP-1, 2nd Floor, Anand Plaza, Viram Khand-1, N...   \n",
       "2                      919 Bridge St, Vernonia, OR 97064   \n",
       "3                           58 Hanbury St, Mayfield, NSW   \n",
       "4      Opposite Assam State Museum, Dighalipukhuri, T...   \n",
       "...                                                  ...   \n",
       "10597                 Cyber Hub, DLF Cyber City, Gurgaon   \n",
       "10598                  6, Pandara Road Market, New Delhi   \n",
       "10599             Pacific Mall, Tagore Garden, New Delhi   \n",
       "10600  Anand Lok Shopping Centre, Opposite Gargi Coll...   \n",
       "10601                           21 A, Janpath, New Delhi   \n",
       "\n",
       "                                         cuisines  average_cost_for_two  \\\n",
       "0                                           Asian                    25   \n",
       "1                      Cafe, Italian, Continental                   800   \n",
       "2                   Coffee and Tea, Mediterranean                    10   \n",
       "3                                           Asian                    20   \n",
       "4            Cafe, American, Italian, Continental                   400   \n",
       "...                                           ...                   ...   \n",
       "10597  Continental, American, Asian, North Indian                  1500   \n",
       "10598                       North Indian, Mughlai                  1500   \n",
       "10599                                North Indian                  1600   \n",
       "10600                  Italian, Continental, Cafe                  1400   \n",
       "10601                               Modern Indian                  5000   \n",
       "\n",
       "       has_online_delivery                   locality       city  country_id  \\\n",
       "0                        0                    Yorkton    Yorkton          37   \n",
       "1                        0                Gomti Nagar    Lucknow           1   \n",
       "2                        0                   Vernonia   Vernonia         216   \n",
       "3                        0                   Mayfield   Mayfield          14   \n",
       "4                        0                Uzan Bazaar   Guwahati           1   \n",
       "...                    ...                        ...        ...         ...   \n",
       "10597                    1  Cyber Hub, DLF Cyber City    Gurgaon           1   \n",
       "10598                    1        Pandara Road Market  New Delhi           1   \n",
       "10599                    1              Tagore Garden  New Delhi           1   \n",
       "10600                    1                  Anand Lok  New Delhi           1   \n",
       "10601                    0                    Janpath  New Delhi           1   \n",
       "\n",
       "       zipcode aggregate_rating rating_text votes  \n",
       "0      S3N 1G1              3.3     Average    26  \n",
       "1       226010              4.6   Excellent   567  \n",
       "2        97064              4.3   Very Good    88  \n",
       "3         2304              2.9     Average    11  \n",
       "4                           4.1   Very Good   377  \n",
       "...        ...              ...         ...   ...  \n",
       "10597                       4.3   Very Good   716  \n",
       "10598        0              4.4   Very Good  4373  \n",
       "10599                       4.3   Very Good  1252  \n",
       "10600                       4.2   Very Good  2131  \n",
       "10601                       4.9   Excellent   408  \n",
       "\n",
       "[10602 rows x 13 columns]"
      ]
     },
     "execution_count": 122,
     "metadata": {},
     "output_type": "execute_result"
    }
   ],
   "source": [
    "flatten_dict.convert_to_df()"
   ]
  },
  {
   "cell_type": "code",
   "execution_count": 111,
   "id": "4e2eca83-665d-46d4-8ddc-c9b4429dc5ad",
   "metadata": {},
   "outputs": [],
   "source": [
    "# pd.DataFrame(get_data(df[\"restaurants\"].iloc[0]))"
   ]
  },
  {
   "cell_type": "code",
   "execution_count": null,
   "id": "b2001449-3926-4096-ad12-d2c47a3f2d47",
   "metadata": {},
   "outputs": [],
   "source": []
  }
 ],
 "metadata": {
  "kernelspec": {
   "display_name": "scrap-project",
   "language": "python",
   "name": "scrap-project"
  },
  "language_info": {
   "codemirror_mode": {
    "name": "ipython",
    "version": 3
   },
   "file_extension": ".py",
   "mimetype": "text/x-python",
   "name": "python",
   "nbconvert_exporter": "python",
   "pygments_lexer": "ipython3",
   "version": "3.6.13"
  }
 },
 "nbformat": 4,
 "nbformat_minor": 5
}
